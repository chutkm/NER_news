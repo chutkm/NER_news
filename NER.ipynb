{
  "nbformat": 4,
  "nbformat_minor": 0,
  "metadata": {
    "colab": {
      "provenance": []
    },
    "kernelspec": {
      "name": "python3",
      "display_name": "Python 3"
    },
    "language_info": {
      "name": "python"
    }
  },
  "cells": [
    {
      "cell_type": "markdown",
      "source": [
        "##Алгоритм выполнения:\n",
        "1.Строю эмбеддинги слов из списка(название + описание)  \n",
        "\n",
        "2.Выделяю сущности из списка текстов\n",
        "\n",
        "3.Беру контекст найденной сущности(окно = 15 слов) и создаю  эмбеддинг\n",
        "\n",
        "4.С помощью индексов FAISS по метрике косинусово расстояние ищу совпадения по смыслу\n",
        "\n",
        "5.Далее провожу ранжировку с помощью кросс-энкодера\n",
        "\n",
        "6.Делю на primary/mention"
      ],
      "metadata": {
        "id": "qwjDghT1PlQm"
      }
    },
    {
      "cell_type": "code",
      "execution_count": null,
      "metadata": {
        "colab": {
          "base_uri": "https://localhost:8080/"
        },
        "id": "9ibPsTFBHON-",
        "outputId": "2cc77115-4f01-4b91-ceab-97d4f9919c50"
      },
      "outputs": [
        {
          "output_type": "stream",
          "name": "stdout",
          "text": [
            "Requirement already satisfied: langdetect in /usr/local/lib/python3.11/dist-packages (1.0.9)\n",
            "Requirement already satisfied: six in /usr/local/lib/python3.11/dist-packages (from langdetect) (1.17.0)\n",
            "Requirement already satisfied: emoji in /usr/local/lib/python3.11/dist-packages (2.14.1)\n",
            "Collecting ru-core-news-lg==3.7.0\n",
            "  Downloading https://github.com/explosion/spacy-models/releases/download/ru_core_news_lg-3.7.0/ru_core_news_lg-3.7.0-py3-none-any.whl (513.4 MB)\n",
            "\u001b[2K     \u001b[90m━━━━━━━━━━━━━━━━━━━━━━━━━━━━━━━━━━━━━━━━\u001b[0m \u001b[32m513.4/513.4 MB\u001b[0m \u001b[31m3.2 MB/s\u001b[0m eta \u001b[36m0:00:00\u001b[0m\n",
            "\u001b[?25hRequirement already satisfied: spacy<3.8.0,>=3.7.0 in /usr/local/lib/python3.11/dist-packages (from ru-core-news-lg==3.7.0) (3.7.5)\n",
            "Requirement already satisfied: pymorphy3>=1.0.0 in /usr/local/lib/python3.11/dist-packages (from ru-core-news-lg==3.7.0) (2.0.2)\n",
            "Requirement already satisfied: dawg-python>=0.7.1 in /usr/local/lib/python3.11/dist-packages (from pymorphy3>=1.0.0->ru-core-news-lg==3.7.0) (0.7.2)\n",
            "Requirement already satisfied: pymorphy3-dicts-ru in /usr/local/lib/python3.11/dist-packages (from pymorphy3>=1.0.0->ru-core-news-lg==3.7.0) (2.4.417150.4580142)\n",
            "Requirement already satisfied: spacy-legacy<3.1.0,>=3.0.11 in /usr/local/lib/python3.11/dist-packages (from spacy<3.8.0,>=3.7.0->ru-core-news-lg==3.7.0) (3.0.12)\n",
            "Requirement already satisfied: spacy-loggers<2.0.0,>=1.0.0 in /usr/local/lib/python3.11/dist-packages (from spacy<3.8.0,>=3.7.0->ru-core-news-lg==3.7.0) (1.0.5)\n",
            "Requirement already satisfied: murmurhash<1.1.0,>=0.28.0 in /usr/local/lib/python3.11/dist-packages (from spacy<3.8.0,>=3.7.0->ru-core-news-lg==3.7.0) (1.0.12)\n",
            "Requirement already satisfied: cymem<2.1.0,>=2.0.2 in /usr/local/lib/python3.11/dist-packages (from spacy<3.8.0,>=3.7.0->ru-core-news-lg==3.7.0) (2.0.11)\n",
            "Requirement already satisfied: preshed<3.1.0,>=3.0.2 in /usr/local/lib/python3.11/dist-packages (from spacy<3.8.0,>=3.7.0->ru-core-news-lg==3.7.0) (3.0.9)\n",
            "Requirement already satisfied: thinc<8.3.0,>=8.2.2 in /usr/local/lib/python3.11/dist-packages (from spacy<3.8.0,>=3.7.0->ru-core-news-lg==3.7.0) (8.2.5)\n",
            "Requirement already satisfied: wasabi<1.2.0,>=0.9.1 in /usr/local/lib/python3.11/dist-packages (from spacy<3.8.0,>=3.7.0->ru-core-news-lg==3.7.0) (1.1.3)\n",
            "Requirement already satisfied: srsly<3.0.0,>=2.4.3 in /usr/local/lib/python3.11/dist-packages (from spacy<3.8.0,>=3.7.0->ru-core-news-lg==3.7.0) (2.5.1)\n",
            "Requirement already satisfied: catalogue<2.1.0,>=2.0.6 in /usr/local/lib/python3.11/dist-packages (from spacy<3.8.0,>=3.7.0->ru-core-news-lg==3.7.0) (2.0.10)\n",
            "Requirement already satisfied: weasel<0.5.0,>=0.1.0 in /usr/local/lib/python3.11/dist-packages (from spacy<3.8.0,>=3.7.0->ru-core-news-lg==3.7.0) (0.4.1)\n",
            "Requirement already satisfied: typer<1.0.0,>=0.3.0 in /usr/local/lib/python3.11/dist-packages (from spacy<3.8.0,>=3.7.0->ru-core-news-lg==3.7.0) (0.15.1)\n",
            "Requirement already satisfied: tqdm<5.0.0,>=4.38.0 in /usr/local/lib/python3.11/dist-packages (from spacy<3.8.0,>=3.7.0->ru-core-news-lg==3.7.0) (4.67.1)\n",
            "Requirement already satisfied: requests<3.0.0,>=2.13.0 in /usr/local/lib/python3.11/dist-packages (from spacy<3.8.0,>=3.7.0->ru-core-news-lg==3.7.0) (2.32.3)\n",
            "Requirement already satisfied: pydantic!=1.8,!=1.8.1,<3.0.0,>=1.7.4 in /usr/local/lib/python3.11/dist-packages (from spacy<3.8.0,>=3.7.0->ru-core-news-lg==3.7.0) (2.10.5)\n",
            "Requirement already satisfied: jinja2 in /usr/local/lib/python3.11/dist-packages (from spacy<3.8.0,>=3.7.0->ru-core-news-lg==3.7.0) (3.1.5)\n",
            "Requirement already satisfied: setuptools in /usr/local/lib/python3.11/dist-packages (from spacy<3.8.0,>=3.7.0->ru-core-news-lg==3.7.0) (75.1.0)\n",
            "Requirement already satisfied: packaging>=20.0 in /usr/local/lib/python3.11/dist-packages (from spacy<3.8.0,>=3.7.0->ru-core-news-lg==3.7.0) (24.2)\n",
            "Requirement already satisfied: langcodes<4.0.0,>=3.2.0 in /usr/local/lib/python3.11/dist-packages (from spacy<3.8.0,>=3.7.0->ru-core-news-lg==3.7.0) (3.5.0)\n",
            "Requirement already satisfied: numpy>=1.19.0 in /usr/local/lib/python3.11/dist-packages (from spacy<3.8.0,>=3.7.0->ru-core-news-lg==3.7.0) (1.26.4)\n",
            "Requirement already satisfied: language-data>=1.2 in /usr/local/lib/python3.11/dist-packages (from langcodes<4.0.0,>=3.2.0->spacy<3.8.0,>=3.7.0->ru-core-news-lg==3.7.0) (1.3.0)\n",
            "Requirement already satisfied: annotated-types>=0.6.0 in /usr/local/lib/python3.11/dist-packages (from pydantic!=1.8,!=1.8.1,<3.0.0,>=1.7.4->spacy<3.8.0,>=3.7.0->ru-core-news-lg==3.7.0) (0.7.0)\n",
            "Requirement already satisfied: pydantic-core==2.27.2 in /usr/local/lib/python3.11/dist-packages (from pydantic!=1.8,!=1.8.1,<3.0.0,>=1.7.4->spacy<3.8.0,>=3.7.0->ru-core-news-lg==3.7.0) (2.27.2)\n",
            "Requirement already satisfied: typing-extensions>=4.12.2 in /usr/local/lib/python3.11/dist-packages (from pydantic!=1.8,!=1.8.1,<3.0.0,>=1.7.4->spacy<3.8.0,>=3.7.0->ru-core-news-lg==3.7.0) (4.12.2)\n",
            "Requirement already satisfied: charset-normalizer<4,>=2 in /usr/local/lib/python3.11/dist-packages (from requests<3.0.0,>=2.13.0->spacy<3.8.0,>=3.7.0->ru-core-news-lg==3.7.0) (3.4.1)\n",
            "Requirement already satisfied: idna<4,>=2.5 in /usr/local/lib/python3.11/dist-packages (from requests<3.0.0,>=2.13.0->spacy<3.8.0,>=3.7.0->ru-core-news-lg==3.7.0) (3.10)\n",
            "Requirement already satisfied: urllib3<3,>=1.21.1 in /usr/local/lib/python3.11/dist-packages (from requests<3.0.0,>=2.13.0->spacy<3.8.0,>=3.7.0->ru-core-news-lg==3.7.0) (2.3.0)\n",
            "Requirement already satisfied: certifi>=2017.4.17 in /usr/local/lib/python3.11/dist-packages (from requests<3.0.0,>=2.13.0->spacy<3.8.0,>=3.7.0->ru-core-news-lg==3.7.0) (2024.12.14)\n",
            "Requirement already satisfied: blis<0.8.0,>=0.7.8 in /usr/local/lib/python3.11/dist-packages (from thinc<8.3.0,>=8.2.2->spacy<3.8.0,>=3.7.0->ru-core-news-lg==3.7.0) (0.7.11)\n",
            "Requirement already satisfied: confection<1.0.0,>=0.0.1 in /usr/local/lib/python3.11/dist-packages (from thinc<8.3.0,>=8.2.2->spacy<3.8.0,>=3.7.0->ru-core-news-lg==3.7.0) (0.1.5)\n",
            "Requirement already satisfied: click>=8.0.0 in /usr/local/lib/python3.11/dist-packages (from typer<1.0.0,>=0.3.0->spacy<3.8.0,>=3.7.0->ru-core-news-lg==3.7.0) (8.1.8)\n",
            "Requirement already satisfied: shellingham>=1.3.0 in /usr/local/lib/python3.11/dist-packages (from typer<1.0.0,>=0.3.0->spacy<3.8.0,>=3.7.0->ru-core-news-lg==3.7.0) (1.5.4)\n",
            "Requirement already satisfied: rich>=10.11.0 in /usr/local/lib/python3.11/dist-packages (from typer<1.0.0,>=0.3.0->spacy<3.8.0,>=3.7.0->ru-core-news-lg==3.7.0) (13.9.4)\n",
            "Requirement already satisfied: cloudpathlib<1.0.0,>=0.7.0 in /usr/local/lib/python3.11/dist-packages (from weasel<0.5.0,>=0.1.0->spacy<3.8.0,>=3.7.0->ru-core-news-lg==3.7.0) (0.20.0)\n",
            "Requirement already satisfied: smart-open<8.0.0,>=5.2.1 in /usr/local/lib/python3.11/dist-packages (from weasel<0.5.0,>=0.1.0->spacy<3.8.0,>=3.7.0->ru-core-news-lg==3.7.0) (7.1.0)\n",
            "Requirement already satisfied: MarkupSafe>=2.0 in /usr/local/lib/python3.11/dist-packages (from jinja2->spacy<3.8.0,>=3.7.0->ru-core-news-lg==3.7.0) (3.0.2)\n",
            "Requirement already satisfied: marisa-trie>=1.1.0 in /usr/local/lib/python3.11/dist-packages (from language-data>=1.2->langcodes<4.0.0,>=3.2.0->spacy<3.8.0,>=3.7.0->ru-core-news-lg==3.7.0) (1.2.1)\n",
            "Requirement already satisfied: markdown-it-py>=2.2.0 in /usr/local/lib/python3.11/dist-packages (from rich>=10.11.0->typer<1.0.0,>=0.3.0->spacy<3.8.0,>=3.7.0->ru-core-news-lg==3.7.0) (3.0.0)\n",
            "Requirement already satisfied: pygments<3.0.0,>=2.13.0 in /usr/local/lib/python3.11/dist-packages (from rich>=10.11.0->typer<1.0.0,>=0.3.0->spacy<3.8.0,>=3.7.0->ru-core-news-lg==3.7.0) (2.18.0)\n",
            "Requirement already satisfied: wrapt in /usr/local/lib/python3.11/dist-packages (from smart-open<8.0.0,>=5.2.1->weasel<0.5.0,>=0.1.0->spacy<3.8.0,>=3.7.0->ru-core-news-lg==3.7.0) (1.17.2)\n",
            "Requirement already satisfied: mdurl~=0.1 in /usr/local/lib/python3.11/dist-packages (from markdown-it-py>=2.2.0->rich>=10.11.0->typer<1.0.0,>=0.3.0->spacy<3.8.0,>=3.7.0->ru-core-news-lg==3.7.0) (0.1.2)\n",
            "\u001b[38;5;2m✔ Download and installation successful\u001b[0m\n",
            "You can now load the package via spacy.load('ru_core_news_lg')\n",
            "\u001b[38;5;3m⚠ Restart to reload dependencies\u001b[0m\n",
            "If you are in a Jupyter or Colab notebook, you may need to restart Python in\n",
            "order to load all the package's dependencies. You can do this by selecting the\n",
            "'Restart kernel' or 'Restart runtime' option.\n",
            "Requirement already satisfied: faiss-cpu in /usr/local/lib/python3.11/dist-packages (1.9.0.post1)\n",
            "Requirement already satisfied: numpy<3.0,>=1.25.0 in /usr/local/lib/python3.11/dist-packages (from faiss-cpu) (1.26.4)\n",
            "Requirement already satisfied: packaging in /usr/local/lib/python3.11/dist-packages (from faiss-cpu) (24.2)\n"
          ]
        }
      ],
      "source": [
        "!pip install langdetect\n",
        "!pip install emoji\n",
        "!python -m spacy download ru_core_news_lg\n",
        "!pip install faiss-cpu\n"
      ]
    },
    {
      "cell_type": "code",
      "source": [
        "import pandas as pd\n",
        "import re\n",
        "import spacy\n",
        "import json\n",
        "import emoji\n",
        "import torch\n",
        "import faiss\n",
        "import numpy as np\n",
        "import logging\n",
        "from transformers import AutoTokenizer, AutoModel\n",
        "from sentence_transformers import SentenceTransformer, models, CrossEncoder\n",
        "from concurrent.futures import ThreadPoolExecutor"
      ],
      "metadata": {
        "id": "J5koia6OH28Q"
      },
      "execution_count": null,
      "outputs": []
    },
    {
      "cell_type": "code",
      "source": [
        "pd.set_option('display.max_rows', None)"
      ],
      "metadata": {
        "id": "qU1L31x6H6ro"
      },
      "execution_count": null,
      "outputs": []
    },
    {
      "cell_type": "code",
      "source": [
        "from google.colab import drive\n",
        "drive.mount('/content/drive', force_remount=True)"
      ],
      "metadata": {
        "colab": {
          "base_uri": "https://localhost:8080/"
        },
        "id": "JHkJu6UdH7RM",
        "outputId": "eca7e1cf-cddb-4e09-c720-46e4f6cb96bc"
      },
      "execution_count": null,
      "outputs": [
        {
          "output_type": "stream",
          "name": "stdout",
          "text": [
            "Mounted at /content/drive\n"
          ]
        }
      ]
    },
    {
      "cell_type": "code",
      "source": [
        "path_items = '/content/drive/MyDrive/test_items.csv'\n",
        "path_texts = '/content/drive/MyDrive/test_texts.csv'"
      ],
      "metadata": {
        "id": "Y0ledOX1H_i9"
      },
      "execution_count": null,
      "outputs": []
    },
    {
      "cell_type": "code",
      "source": [
        "df_items = pd.read_csv(path_items,header=None)\n",
        "df_texts =  pd.read_csv(path_texts,header=None)\n"
      ],
      "metadata": {
        "id": "4xjb2A5cIBjU"
      },
      "execution_count": null,
      "outputs": []
    },
    {
      "cell_type": "code",
      "source": [
        "df_items.columns = ['id','items','script']\n",
        "print(df_items.head(10))"
      ],
      "metadata": {
        "colab": {
          "base_uri": "https://localhost:8080/"
        },
        "id": "decCCLowIEL8",
        "outputId": "013597ea-b8ba-4087-ef27-4864d2678fda"
      },
      "execution_count": null,
      "outputs": [
        {
          "output_type": "stream",
          "name": "stdout",
          "text": [
            "      id                    items  \\\n",
            "0  29351              Чёрная дыра   \n",
            "1  13055                 DAIHATSU   \n",
            "2  24479             Норма Дюмонт   \n",
            "3   2474                      KPI   \n",
            "4  24740                     ХМАО   \n",
            "5  19997          Денис Никифоров   \n",
            "6   5144  Калининградская область   \n",
            "7  22406            Наталья Ветер   \n",
            "8  26336             Артур Каюмов   \n",
            "9   5204              Новостройки   \n",
            "\n",
            "                                              script  \n",
            "0  Область пространства-времени, гравитационное п...  \n",
            "1  Daihatsu Motor Co., Ltd.&#32;(яп. ダイハツ工業株式会社 &...  \n",
            "2  Бразильский боец смешанных единоборств в полул...  \n",
            "3  Это числовые показатели деятельности, которые ...  \n",
            "4  Субъект Российской Федерации. Территориально я...  \n",
            "5          Российский актёр театра и кино, каскадёр.  \n",
            "6  Калининградская область — субъект Российской Ф...  \n",
            "7  Руководитель департамента природных ресурсов и...  \n",
            "8  Российский хоккеист, нападающий ярославского «...  \n",
            "9  Дома, которые только что достроены, а квартиры...  \n"
          ]
        }
      ]
    },
    {
      "cell_type": "code",
      "source": [
        "df_texts.columns = ['text']\n",
        "print(df_texts.head())"
      ],
      "metadata": {
        "colab": {
          "base_uri": "https://localhost:8080/"
        },
        "id": "OW_5LF7-IFRh",
        "outputId": "20e24d77-2023-4138-c1ba-6806134b1d73"
      },
      "execution_count": null,
      "outputs": [
        {
          "output_type": "stream",
          "name": "stdout",
          "text": [
            "                                                text\n",
            "0  <p>О жестокости атамана Бориса Анненкова ходил...\n",
            "1  ❤️Звенигород Руководитель отделения Андрей Пон...\n",
            "2  Жителям Казани сообщили, что до конца саммита ...\n",
            "3  ⚡⚡⚡Радий Хабиров срочно покинул Башкирию Повод...\n",
            "4  Начните сегодня или когда угодно: бесплатные к...\n"
          ]
        }
      ]
    },
    {
      "cell_type": "code",
      "source": [
        "# очистка текста\n",
        "def clean_text(text):\n",
        "    text = text.lower()\n",
        "\n",
        "    text = re.sub(r'<.*?>', '', text)\n",
        "\n",
        "    text = emoji.replace_emoji(text, replace='')\n",
        "\n",
        "    text = re.sub(r'http\\S+', '', text)\n",
        "\n",
        "    text = re.sub(r'#\\S+', '', text)\n",
        "\n",
        "    text = re.sub(r'\\s+', ' ', text).strip()\n",
        "\n",
        "    text = re.sub(r'[«»\"]', ' ', text)\n",
        "\n",
        "    text = re.sub(r'[^\\w\\s]', ' ', text)\n",
        "\n",
        "    return text\n",
        "\n",
        "df_texts['text'] = df_texts['text'].apply(lambda x: clean_text(str(x)))"
      ],
      "metadata": {
        "id": "WFPNUUMtIJrC"
      },
      "execution_count": null,
      "outputs": []
    },
    {
      "cell_type": "code",
      "source": [
        "df_texts = df_texts.applymap(lambda x: x.strip() if isinstance(x, str) else x)"
      ],
      "metadata": {
        "colab": {
          "base_uri": "https://localhost:8080/"
        },
        "id": "slPmA-q4Ia8Q",
        "outputId": "ebcaeaca-b65c-4a6c-c06c-dc74bcdbc39f"
      },
      "execution_count": null,
      "outputs": [
        {
          "output_type": "stream",
          "name": "stderr",
          "text": [
            "<ipython-input-23-4ce5c74b8379>:1: FutureWarning: DataFrame.applymap has been deprecated. Use DataFrame.map instead.\n",
            "  df_texts = df_texts.applymap(lambda x: x.strip() if isinstance(x, str) else x)\n"
          ]
        }
      ]
    },
    {
      "cell_type": "code",
      "source": [
        "device = 0 if torch.cuda.is_available() else -1"
      ],
      "metadata": {
        "id": "VgkKc_UlKCiQ"
      },
      "execution_count": null,
      "outputs": []
    },
    {
      "cell_type": "code",
      "source": [
        "reranker_model = CrossEncoder(\"DiTy/cross-encoder-russian-msmarco\", max_length=512)\n",
        "semantic_model = SentenceTransformer(\"DiTy/bi-encoder-russian-msmarco\")\n",
        "nlp = spacy.load(\"ru_core_news_lg\")"
      ],
      "metadata": {
        "colab": {
          "base_uri": "https://localhost:8080/",
          "height": 665,
          "referenced_widgets": [
            "be6f63bdd7dd4e6fb5eeeeb644dcbdf8",
            "5a4f5d810a374c60972fba6ae3151654",
            "05e15527d613480298ede22c30a91bf7",
            "85236b67b5544187805fa5a57b1fb257",
            "04bdf4fbf3954549878b04d278225181",
            "44c637e0b77e485895d0a30c837f7577",
            "71dc1767a7b04bce82d6c1b32357bf1b",
            "f79f08d601d34442967f7ce4a4651a92",
            "8d850c3cb61f478bbd16045cb90d86d3",
            "fb8edd655ea0475a8a3f4854a6690908",
            "f9716dd53c514f48ba64999f22120442",
            "6a7cdce8303442019fb1c8eeaa38ee34",
            "43b031244dd14c72bb51e9ae083b0b8b",
            "966670fcb1a541a2910454f9a3fbe29f",
            "e1ec4a219d4243919e072ebf7286f105",
            "8bdee316cf234b8885c4ea2a9d031ac5",
            "a470f795a9c6461789bf7fce7c024318",
            "dd6684060b88492d88aa934475b7ce75",
            "9e9f749e88ff4609af616e19752e6cde",
            "08b0707d96a147c0b3eb5a49f8d3447a",
            "4db79ceeac7a4cf5ab65725b76aea40f",
            "b1e9268edb074d68939e3f2b75c8f503",
            "101c59de3d3b4e1bb01581325a62cfca",
            "6ae6608f66d4492e8c013ffff07eb228",
            "b3470d89e840470ba7eadcdf43ca298e",
            "e870289151614210867a777e5b973802",
            "c04a3ab3622c4c26be40b110be7f4a3c",
            "0b0ad312003342f89584657c61d6692b",
            "ae8c28e942e249e19c7826e2134f36b4",
            "fddd2a18dd7f47c8b2f39317613c9591",
            "727a6ab919e24aec878fbd26483bf008",
            "98c498b936634f0d9a1069acaefa2c78",
            "b44c580b7e344b0fa373bdad7b0f97ea",
            "75c296036fec4ec7954f273fc043e520",
            "9e587da60eeb4cee8913e2edbf2e6f5b",
            "6ea9512fef7b4d32aacd63fc80772dbe",
            "a57e475076ae4ae19aa311511f7340d0",
            "e1cf0cd5f65f4499af92f24d61891ae3",
            "60e4a834344f48819f624643e47a4afa",
            "8d48e00e1d76490795d7e3876d3ce66c",
            "d4bf9cce0a8c4f4bbb143c7984f7a624",
            "87e2ffabb9f1400cbe02f5afc3d07f83",
            "7624876f53384bb882e088a37393df39",
            "4833f420bfce48e182a120e796664ec2",
            "8214da4eff57422da9e639a143d10359",
            "66a6988ae3734bea80268439c8c2b3b7",
            "4a303169172d458c951cda82b71b2625",
            "2ad65f25a22a4a07b0ec31c6766dba8e",
            "758a6acecd174c61ad53f29ac18a7d74",
            "d1d70924b1ea4b4e99f6f7940e9f936c",
            "9c2444acd18647d78bc11ec256c91e32",
            "885a7d1f0b8e43599fb021fd7e88baba",
            "08829b7ba4a34e208b0a06259f4458fe",
            "f7188a0769e5453492efcf932ad83451",
            "06394cf1558247dfb065b8c28361a071",
            "f0ab5033cc184b89b12ceee559438e24",
            "184e16d9f1314e2aaeae4269c0d14dbf",
            "23e7e0655bb84fb4bc3149ac1de910b3",
            "ffa86f7808f143ce88655a1ee762ce05",
            "c6ded3f1b6b74d4a99109f2a020c372c",
            "17dca056b5044f1380c9a170f0622e97",
            "a210f2ff9e244d15a5e27b4f2750afaf",
            "c76d9ace33b94283b3917ea44aa521eb",
            "956b655098b844dd9d1c51511d46f192",
            "42194f5a07a94051889e69b40960c140",
            "240137deaeeb40c0831fac74e888159f",
            "06d77cc77a1b4e24a9432eeb0ae0b183",
            "375cba49712649b39d7bb38c714fd785",
            "691a1ab2dcb74305aa6897953abbbd8b",
            "f79f441ffc684f178f5cad7dc0a882dd",
            "fb809e45b2234a0fadbf0d58886d8ef1",
            "ddef7f6a871b486d953e39343394c24b",
            "688f5d89492b46e682a69d065a7b13c2",
            "bc68058e57ad4a339f84a6e58b5250b0",
            "94145cd8f49d4da2b9f1e9bbafcb3389",
            "6ae24406aa3445a1afd794fc91f98dc5",
            "94aa0fffdad64c949c67e5378b2b9438",
            "c932c7b406c74bc584ca8fc060c1b09d",
            "d3adebd823a4441892d35dfc96ba8222",
            "27bb5761a4e746ab9db96d24968a1a35",
            "2debfab154964fcdaace2439374174ef",
            "56386376dd84436fa76db5ff6cc4dc36",
            "e971447fefe747c2990f7959d2387001",
            "7d40095e4f2641b19f30a0182b3d7305",
            "78db9232395a49798a8e29add9b9f855",
            "2789c22014b44a0683068402b24f282c",
            "ee0306c5ddaf48e4b3b5041773d23eeb",
            "f44c2b248ddd4e78a3d1f831738e2382",
            "852e6f106cf54ef4b2bd0942569659b3",
            "0f399f263e364fe1ba01e27fce2b5164",
            "cda04fd7580a4f6da7e50b35ecd96090",
            "f03cc5a415354acfb07c0bd917d93f2d",
            "888404a5bf944134b83b78db3c6b9da9",
            "20c67ac1e5ad465f91af19e962822fa6",
            "7face77dfccc4bef8e8da1c76404a99e",
            "9417c27c4e8f49b3899916f027de9abf",
            "1ab31052b9d844caa771b31fe184e70f",
            "56344e28d47345ee818e241a37bae957",
            "b3bdf6d424bc49d5935d884a6f3d1661",
            "17d1a39f6549479897401725a489f12c",
            "4a1ec33a8d7047e5883a580479495c0b",
            "71c7b662d2204d3d8ce6f8571da195aa",
            "4b6599188cce4129b50d08d0575d3c07",
            "2e1c74d189464a4699d619a8d84704e4",
            "fdcb6ff597af45e79d189517ed74a3f3",
            "7f6527c1699f4b89a32698fd285e2e81",
            "df619a6948e649aa89729d51bb62cf56",
            "aecf29c0dcce4597b8ef5f930bd9755f",
            "8adeff6d1b6d4faea2d29f2f5c321d31",
            "60624392157a47d4b32dbc89c43dec02",
            "5fdcedb2d419456090a7e862f54a7f96",
            "5b0a8c168fd54e3180b0a3fd49acf557",
            "5775f9a34b1242b9a553c8789dc1b499",
            "f8cba54c64d54e7d874f57db82e256bb",
            "860ab6af1d474382925730d2e372a03a",
            "d0e4a928d1e64953bc771c7a5eb7b22f",
            "82d45161558348b397ca425b5021bfed",
            "0ecf62e820bb4ad98fab49dae7ce3f39",
            "86d1d968ed2f42efb49ac54f0d7d012a",
            "559a336c76cf48eebedd543e655d8a70",
            "cbcb6e74ffd44be3b07fcc004480d56a",
            "4495118522724431a10ad6223b4ce86e",
            "386d2bc86e1740729800d484aefc3719",
            "66fdfca2d1514778980fab930cc8f135",
            "a02de674ec364683af6222bad04a6db4",
            "49339b603787494fb722949c91bf161d",
            "700fc8c534eb47629c8d3c81d6be0ee8",
            "4685b9305348444797f1e29f9df136ba",
            "b739bc6011584107b94bc37f39425dde",
            "75f5c13d75c74f81aefc621f5a9403df",
            "041ee09d5ba341f8a77a5a3751b4bf49",
            "6f28eae6dbc643fca842b20cb6b70349",
            "407d4a7883ed47e9ac1162bacaef2207",
            "3ba30bd4cd134b9bab2053c9c35c8736",
            "da7406b1577a46dab82566ea3ed77e21",
            "26cefdc9c8a34b7a86bd1e0ba52d7195",
            "91eeacd42191439a8ca8c9571f00cab2",
            "de1d51e987cb4e899c0cbf00df7754dc",
            "b20bef85875a4f04832e94e13b4c8752",
            "986dfa17d795460098fbfec5d89ad3bc",
            "776a776e40d7476da0b90572828591dc",
            "d58c4c6be4564e3db9b0ead330b13bbb",
            "cf37abd3fda7420e9150c5b24c608041",
            "053585ef78cd434d9daeb991cbbcf883",
            "8acc0e0e9774403a999c71f5ee6530cf",
            "cb93565f1f3a4d808ef8bd0c42530025",
            "ed238ee3584942f895106162b02a6959",
            "a70cf925fb2a433c82251d767a5b5f3e",
            "f0d3682f4158435a999520be187f3b83",
            "52b6a4598a4a47cb9a3084be4b31a062",
            "5c11bbcf15cf4f729ea3ce68c4a77d2f",
            "2d1b7aeb541847d2b3b4079d77cfee9d",
            "69887ecf04b84d8f9531d398c96a9a4c",
            "87b5a0b1d3404d4c8c11a107c38dfea6",
            "39e3352f5db542ecbfed1464a6694f1f",
            "4068bc4bcfab4218ba54d33434c6354c",
            "9ff7821edea34962bea0acca8556b01e",
            "82a69fad81f9415e97598b2b140a3c08",
            "773c4c596083400e9e6c7882f6783675",
            "a7fd8d82b86d4b09a35729c7ecb2d1f7",
            "7c554e17798b468c8b3111aa5fdfa1b2",
            "59a88dc9b0b44d678a5d50c212eb8cf6",
            "ff6ca6133787475bbbf20b0d3db45315",
            "0ec509fd25be4184ade816a8539f7f2a",
            "4a1d88f0835b4a93846b5363aaf9c19b",
            "f8ff0af7521242ef9644524b2ac31b6b",
            "b218651ba2e74da9808e17317dd2b833",
            "42676deff4a5440691fb6537f30f3744",
            "b85afc28316844febb7277442e960375",
            "3c8d31ef3b144c6fb88b72eaa0c121e4",
            "2f07473e40234e6a8e3ddfd0702e4000",
            "73c408e620114548b5b343df9cc01d7c",
            "091397c920174c5f8b5a1cc6440f3735",
            "9c59d13c6f8241bd9c198c5651b28a0f",
            "103527d34f034e758772e38e80c85ab9",
            "f62f6ad1c4114b0983981bc4e546ded7",
            "b616a5bf95c04213ad4d071be08c23af",
            "6de1fc7a1f074146b44d361fbf9a3064",
            "5b0dbb6576e04e85a04f002d70aca264",
            "b8a5f261c1e949fab224b55ea6a0761e",
            "61f56a52b4b1400dab1e5ad56acc8410",
            "809387760d3e4062971ba66c462dbae9",
            "74345899734d4617baee0c3273522981",
            "d8056b71e9344f38951cbd2fbe564a14",
            "89b0784a40724e709e3a707304dba855",
            "aa8b5a4485e24cc1950ba26dd9fc422e",
            "e4fbe39542fb49579a29ac6053502c68"
          ]
        },
        "id": "oihVTMs_KF5x",
        "outputId": "d008a043-d229-4734-9387-bbb3d7422436"
      },
      "execution_count": null,
      "outputs": [
        {
          "output_type": "stream",
          "name": "stderr",
          "text": [
            "/usr/local/lib/python3.11/dist-packages/huggingface_hub/utils/_auth.py:94: UserWarning: \n",
            "The secret `HF_TOKEN` does not exist in your Colab secrets.\n",
            "To authenticate with the Hugging Face Hub, create a token in your settings tab (https://huggingface.co/settings/tokens), set it as secret in your Google Colab and restart your session.\n",
            "You will be able to reuse this secret in all of your notebooks.\n",
            "Please note that authentication is recommended but still optional to access public models or datasets.\n",
            "  warnings.warn(\n"
          ]
        },
        {
          "output_type": "display_data",
          "data": {
            "text/plain": [
              "config.json:   0%|          | 0.00/967 [00:00<?, ?B/s]"
            ],
            "application/vnd.jupyter.widget-view+json": {
              "version_major": 2,
              "version_minor": 0,
              "model_id": "be6f63bdd7dd4e6fb5eeeeb644dcbdf8"
            }
          },
          "metadata": {}
        },
        {
          "output_type": "display_data",
          "data": {
            "text/plain": [
              "model.safetensors:   0%|          | 0.00/711M [00:00<?, ?B/s]"
            ],
            "application/vnd.jupyter.widget-view+json": {
              "version_major": 2,
              "version_minor": 0,
              "model_id": "6a7cdce8303442019fb1c8eeaa38ee34"
            }
          },
          "metadata": {}
        },
        {
          "output_type": "display_data",
          "data": {
            "text/plain": [
              "tokenizer_config.json:   0%|          | 0.00/1.27k [00:00<?, ?B/s]"
            ],
            "application/vnd.jupyter.widget-view+json": {
              "version_major": 2,
              "version_minor": 0,
              "model_id": "101c59de3d3b4e1bb01581325a62cfca"
            }
          },
          "metadata": {}
        },
        {
          "output_type": "display_data",
          "data": {
            "text/plain": [
              "vocab.txt:   0%|          | 0.00/1.65M [00:00<?, ?B/s]"
            ],
            "application/vnd.jupyter.widget-view+json": {
              "version_major": 2,
              "version_minor": 0,
              "model_id": "75c296036fec4ec7954f273fc043e520"
            }
          },
          "metadata": {}
        },
        {
          "output_type": "display_data",
          "data": {
            "text/plain": [
              "tokenizer.json:   0%|          | 0.00/3.57M [00:00<?, ?B/s]"
            ],
            "application/vnd.jupyter.widget-view+json": {
              "version_major": 2,
              "version_minor": 0,
              "model_id": "8214da4eff57422da9e639a143d10359"
            }
          },
          "metadata": {}
        },
        {
          "output_type": "display_data",
          "data": {
            "text/plain": [
              "special_tokens_map.json:   0%|          | 0.00/125 [00:00<?, ?B/s]"
            ],
            "application/vnd.jupyter.widget-view+json": {
              "version_major": 2,
              "version_minor": 0,
              "model_id": "f0ab5033cc184b89b12ceee559438e24"
            }
          },
          "metadata": {}
        },
        {
          "output_type": "display_data",
          "data": {
            "text/plain": [
              "modules.json:   0%|          | 0.00/229 [00:00<?, ?B/s]"
            ],
            "application/vnd.jupyter.widget-view+json": {
              "version_major": 2,
              "version_minor": 0,
              "model_id": "06d77cc77a1b4e24a9432eeb0ae0b183"
            }
          },
          "metadata": {}
        },
        {
          "output_type": "display_data",
          "data": {
            "text/plain": [
              "config_sentence_transformers.json:   0%|          | 0.00/165 [00:00<?, ?B/s]"
            ],
            "application/vnd.jupyter.widget-view+json": {
              "version_major": 2,
              "version_minor": 0,
              "model_id": "c932c7b406c74bc584ca8fc060c1b09d"
            }
          },
          "metadata": {}
        },
        {
          "output_type": "display_data",
          "data": {
            "text/plain": [
              "README.md:   0%|          | 0.00/10.2k [00:00<?, ?B/s]"
            ],
            "application/vnd.jupyter.widget-view+json": {
              "version_major": 2,
              "version_minor": 0,
              "model_id": "852e6f106cf54ef4b2bd0942569659b3"
            }
          },
          "metadata": {}
        },
        {
          "output_type": "display_data",
          "data": {
            "text/plain": [
              "sentence_bert_config.json:   0%|          | 0.00/53.0 [00:00<?, ?B/s]"
            ],
            "application/vnd.jupyter.widget-view+json": {
              "version_major": 2,
              "version_minor": 0,
              "model_id": "17d1a39f6549479897401725a489f12c"
            }
          },
          "metadata": {}
        },
        {
          "output_type": "display_data",
          "data": {
            "text/plain": [
              "config.json:   0%|          | 0.00/920 [00:00<?, ?B/s]"
            ],
            "application/vnd.jupyter.widget-view+json": {
              "version_major": 2,
              "version_minor": 0,
              "model_id": "5fdcedb2d419456090a7e862f54a7f96"
            }
          },
          "metadata": {}
        },
        {
          "output_type": "display_data",
          "data": {
            "text/plain": [
              "model.safetensors:   0%|          | 0.00/711M [00:00<?, ?B/s]"
            ],
            "application/vnd.jupyter.widget-view+json": {
              "version_major": 2,
              "version_minor": 0,
              "model_id": "4495118522724431a10ad6223b4ce86e"
            }
          },
          "metadata": {}
        },
        {
          "output_type": "display_data",
          "data": {
            "text/plain": [
              "tokenizer_config.json:   0%|          | 0.00/1.27k [00:00<?, ?B/s]"
            ],
            "application/vnd.jupyter.widget-view+json": {
              "version_major": 2,
              "version_minor": 0,
              "model_id": "407d4a7883ed47e9ac1162bacaef2207"
            }
          },
          "metadata": {}
        },
        {
          "output_type": "display_data",
          "data": {
            "text/plain": [
              "vocab.txt:   0%|          | 0.00/1.65M [00:00<?, ?B/s]"
            ],
            "application/vnd.jupyter.widget-view+json": {
              "version_major": 2,
              "version_minor": 0,
              "model_id": "053585ef78cd434d9daeb991cbbcf883"
            }
          },
          "metadata": {}
        },
        {
          "output_type": "display_data",
          "data": {
            "text/plain": [
              "tokenizer.json:   0%|          | 0.00/3.57M [00:00<?, ?B/s]"
            ],
            "application/vnd.jupyter.widget-view+json": {
              "version_major": 2,
              "version_minor": 0,
              "model_id": "39e3352f5db542ecbfed1464a6694f1f"
            }
          },
          "metadata": {}
        },
        {
          "output_type": "display_data",
          "data": {
            "text/plain": [
              "special_tokens_map.json:   0%|          | 0.00/695 [00:00<?, ?B/s]"
            ],
            "application/vnd.jupyter.widget-view+json": {
              "version_major": 2,
              "version_minor": 0,
              "model_id": "f8ff0af7521242ef9644524b2ac31b6b"
            }
          },
          "metadata": {}
        },
        {
          "output_type": "display_data",
          "data": {
            "text/plain": [
              "1_Pooling/config.json:   0%|          | 0.00/296 [00:00<?, ?B/s]"
            ],
            "application/vnd.jupyter.widget-view+json": {
              "version_major": 2,
              "version_minor": 0,
              "model_id": "b616a5bf95c04213ad4d071be08c23af"
            }
          },
          "metadata": {}
        }
      ]
    },
    {
      "cell_type": "code",
      "source": [
        "logging.basicConfig(filename='process.log', level=logging.DEBUG, format='%(asctime)s - %(levelname)s - %(message)s')\n",
        "logger = logging.getLogger()"
      ],
      "metadata": {
        "id": "oRLVioI1KQKU"
      },
      "execution_count": null,
      "outputs": []
    },
    {
      "cell_type": "code",
      "source": [
        "# Функция для нормализации эмбеддингов\n",
        "def normalize_embeddings(embeddings):\n",
        "    logger.debug(\"Нормализация эмбеддингов...\")\n",
        "    embeddings = np.array(embeddings)\n",
        "    return embeddings / np.linalg.norm(embeddings, axis=1, keepdims=True)"
      ],
      "metadata": {
        "id": "T62AtUEQNlQs"
      },
      "execution_count": null,
      "outputs": []
    },
    {
      "cell_type": "code",
      "source": [
        "# Создание эмбеддингов(слово + описание) для слов из списка и индексов FAISS\n",
        "def load_entities_to_faiss(df_items):\n",
        "    logger.debug(\"Загрузка сущностей и создание индекса FAISS...\")\n",
        "    entities = []\n",
        "    embeddings = []\n",
        "\n",
        "    for _, row in df_items.iterrows():\n",
        "        entity = {\n",
        "            'id': int(row['id']),\n",
        "            'name': row['items'].lower(),\n",
        "            'description': row['script'].lower() if pd.notna(row['script']) else ''\n",
        "\n",
        "        }\n",
        "        entities.append(entity)\n",
        "\n",
        "        combined_text = f\"{entity['name']} {entity['description']}\"\n",
        "        embedding = semantic_model.encode(combined_text, convert_to_tensor=False)\n",
        "        embeddings.append(embedding)\n",
        "\n",
        "    normalized_embeddings = normalize_embeddings(embeddings)\n",
        "\n",
        "    d = normalized_embeddings.shape[1]\n",
        "    index = faiss.IndexFlatIP(d)\n",
        "    index.add(normalized_embeddings.astype('float32'))\n",
        "\n",
        "    id_to_index = {i: entity['id'] for i, entity in enumerate(entities)}\n",
        "    index_to_id = {v: k for k, v in id_to_index.items()}\n",
        "    return entities, index, normalized_embeddings, id_to_index, index_to_id"
      ],
      "metadata": {
        "id": "AdQO19QrNMpC"
      },
      "execution_count": null,
      "outputs": []
    },
    {
      "cell_type": "code",
      "source": [
        "# Ранжирует топ-150 кандидатов и возвращает лучшего только если его скор выше порога.\n",
        "def rerank_top_candidate(query, candidates, reranker_model, score_threshold=0.85, batch_size=32):\n",
        "\n",
        "    if not candidates:\n",
        "        return None\n",
        "\n",
        "    pairs = [(query, candidate[\"text\"]) for candidate in candidates]\n",
        "\n",
        "    batched_pairs = [pairs[i:i + batch_size] for i in range(0, len(pairs), batch_size)]\n",
        "\n",
        "    all_scores = []\n",
        "\n",
        "    with ThreadPoolExecutor() as executor:\n",
        "        futures = [executor.submit(reranker_model.predict, batch) for batch in batched_pairs]\n",
        "\n",
        "        for future in futures:\n",
        "            all_scores.extend(future.result())\n",
        "\n",
        "\n",
        "    for i, score in enumerate(all_scores):\n",
        "        candidates[i][\"rerank_score\"] = score\n",
        "\n",
        "    filtered_candidates = sorted(\n",
        "        (candidate for candidate in candidates if candidate[\"rerank_score\"] >= score_threshold),\n",
        "        key=lambda x: x[\"rerank_score\"], reverse=True\n",
        "    )\n",
        "\n",
        "\n",
        "    if not filtered_candidates:\n",
        "        return None\n",
        "\n",
        "    best_candidate = filtered_candidates[0]\n",
        "    print('Лучший кандидат: ', best_candidate, 'Пары: ', pairs)\n",
        "\n",
        "    return best_candidate"
      ],
      "metadata": {
        "id": "iqE5h59mNs4m"
      },
      "execution_count": null,
      "outputs": []
    },
    {
      "cell_type": "code",
      "source": [
        "def determine_entity_id_with_faiss(entity_name, entities, faiss_index, id_to_index, context, similarity_threshold=0.4, top_k=150):\n",
        "    \"\"\"\n",
        "    Выполняет поиск с Bi-Encoder и FAISS, затем ранжирует топ-15 кандидатов с Cross-Encoder.\n",
        "    \"\"\"\n",
        "    logger.debug(f\"Определение лучшего кандидата для '{entity_name}'...\")\n",
        "\n",
        "\n",
        "    combined_input = f\"{entity_name} {context}\"\n",
        "    combined_embedding = semantic_model.encode(combined_input, convert_to_tensor=False).reshape(1, -1)\n",
        "    combined_embedding = normalize_embeddings(combined_embedding)\n",
        "\n",
        "    distances, indices = faiss_index.search(combined_embedding, k=top_k)\n",
        "\n",
        "    candidates = []\n",
        "    for i, index in enumerate(indices[0]):\n",
        "        if distances[0][i] >= similarity_threshold:\n",
        "            entity_id = id_to_index.get(index)\n",
        "            if entity_id is not None:\n",
        "\n",
        "                candidates.append({\n",
        "                    \"id\": entity_id,\n",
        "                    \"text\": entities[index][\"name\"] + \" \" + entities[index][\"description\"],\n",
        "                    \"faiss_score\": distances[0][i]\n",
        "                })\n",
        "\n",
        "    if not candidates:\n",
        "        logger.debug(f\"Нет кандидатов с порогом сходства {similarity_threshold}.\")\n",
        "        return None, None\n",
        "\n",
        "    best_candidate = rerank_top_candidate(combined_input, candidates, reranker_model,score_threshold=0.85)\n",
        "\n",
        "\n",
        "    if best_candidate:\n",
        "        logger.debug(f\"Лучший кандидат: ID={best_candidate['id']}, Сходство={best_candidate['rerank_score']:.2f}\")\n",
        "        print(f\"Лучший кандидат: ID={best_candidate['id']}, Сходство={best_candidate['rerank_score']:.2f}\")\n",
        "        return best_candidate[\"id\"], best_candidate[\"rerank_score\"]\n",
        "\n",
        "    return None, None"
      ],
      "metadata": {
        "id": "5FwTaOsHIosB"
      },
      "execution_count": null,
      "outputs": []
    },
    {
      "cell_type": "code",
      "source": [
        "# Определение роли сущности в тексте\n",
        "def classify_entity_role(doc, entity_name):\n",
        "    for token in doc:\n",
        "        if token.text.lower() == entity_name:\n",
        "            if token.dep_ in {'nsubj', 'ROOT', 'obj'}:\n",
        "                return \"primary\"\n",
        "\n",
        "    return \"mention\""
      ],
      "metadata": {
        "id": "wfyCDQ5dLfO9"
      },
      "execution_count": null,
      "outputs": []
    },
    {
      "cell_type": "code",
      "source": [
        "def analyze_text(text, entities, faiss_index, embeddings, id_to_index, primary_set, mention_set, context_window=15):\n",
        "    primary = []\n",
        "    mentions = []\n",
        "\n",
        "    doc = nlp(text)\n",
        "\n",
        "    for ent in doc.ents:\n",
        "        entity_name = ent.text.lower()\n",
        "        entity_idx = next((i for i, token in enumerate(doc) if token.text.lower() == entity_name), None)\n",
        "\n",
        "        if entity_idx is not None:\n",
        "            context = ' '.join([token.text for token in doc[max(0, entity_idx - context_window):min(len(doc), entity_idx + context_window + 1)]])\n",
        "\n",
        "            entity_id, similarity = determine_entity_id_with_faiss(entity_name, entities, faiss_index, id_to_index, context)\n",
        "\n",
        "            if entity_id is not None:\n",
        "                role = classify_entity_role(doc, entity_name)\n",
        "                if role == \"primary\" :\n",
        "                    primary.append({\n",
        "                        'entity_id': entity_id,\n",
        "                        'entity_name': entity_name,\n",
        "                        'similarity': similarity\n",
        "                    })\n",
        "                    primary_set.add(entity_id)\n",
        "                elif role == \"mention\" :\n",
        "                    mentions.append({\n",
        "                        'entity_id': entity_id,\n",
        "                        'entity_name': entity_name,\n",
        "                        'similarity': similarity\n",
        "                    })\n",
        "                    mention_set.add(entity_id)\n",
        "\n",
        "    return primary, mentions"
      ],
      "metadata": {
        "id": "Jvz8pU61LdY7"
      },
      "execution_count": null,
      "outputs": []
    },
    {
      "cell_type": "code",
      "source": [
        "def format_entities(entities):\n",
        "    return ', '.join([f\"{e['entity_name']} (ID: {e['entity_id']}, Similarity: {e['similarity']:.2f})\" for e in entities])"
      ],
      "metadata": {
        "id": "1CenEVCVLL58"
      },
      "execution_count": null,
      "outputs": []
    },
    {
      "cell_type": "code",
      "source": [
        "def separate_entities(primary_set,mention_set):\n",
        "\n",
        "    entities_json = {\n",
        "        'primary': list(primary_set),\n",
        "        'mentions': list(mention_set)\n",
        "    }\n",
        "\n",
        "    with open('entities.json', 'w', encoding='utf-8') as json_file:\n",
        "        json.dump(entities_json, json_file, ensure_ascii=False, indent=4)\n",
        "\n",
        "    return json.dumps(entities_json, ensure_ascii=False, indent=4)"
      ],
      "metadata": {
        "id": "X-O_TLmjLKWM"
      },
      "execution_count": null,
      "outputs": []
    },
    {
      "cell_type": "code",
      "source": [
        "def process_texts_and_entities(df_items, df_texts):\n",
        "\n",
        "    entities, faiss_index, embeddings, id_to_index,index_to_id = load_entities_to_faiss(df_items)\n",
        "\n",
        "    primary_set = set()\n",
        "    mention_set = set()\n",
        "\n",
        "    results = []\n",
        "    for idx, row in df_texts.iterrows():\n",
        "        text = row['text']\n",
        "        primary, mentions = analyze_text(\n",
        "            text, entities, faiss_index, embeddings, id_to_index, primary_set, mention_set\n",
        "        )\n",
        "\n",
        "        results.append({\n",
        "            'id': idx,\n",
        "            'text': text,\n",
        "            'primary': format_entities(primary) if primary else '[]',\n",
        "            'mentions': format_entities(mentions) if mentions else '[]'\n",
        "        })\n",
        "\n",
        "\n",
        "    separate_entities(primary_set, mention_set)\n",
        "    return results"
      ],
      "metadata": {
        "id": "Asq1-m_YLFHY"
      },
      "execution_count": null,
      "outputs": []
    },
    {
      "cell_type": "code",
      "source": [
        "results = process_texts_and_entities(df_items, df_texts)"
      ],
      "metadata": {
        "id": "ZZ13wafXUHdr"
      },
      "execution_count": null,
      "outputs": []
    },
    {
      "cell_type": "code",
      "source": [
        "results_df = pd.DataFrame(results)\n",
        "results_df.to_csv('results.csv', index=False)"
      ],
      "metadata": {
        "id": "iVF4aFswJcke"
      },
      "execution_count": null,
      "outputs": []
    }
  ]
}